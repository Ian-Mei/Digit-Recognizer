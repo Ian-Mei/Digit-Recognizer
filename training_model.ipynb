{
 "cells": [
  {
   "cell_type": "code",
   "execution_count": 2,
   "metadata": {},
   "outputs": [],
   "source": [
    "import pandas as pd\n",
    "import numpy as np\n",
    "import matplotlib.pyplot as plt\n",
    "import matplotlib.image as mpimg\n",
    "import seaborn as sns\n",
    "\n",
    "np.random.seed(2)\n",
    "\n",
    "from sklearn.model_selection import train_test_split\n",
    "from sklearn.metrics import confusion_matrix\n",
    "import itertools\n",
    "\n",
    "import tensorflow as tf\n",
    "\n",
    "\n",
    "from keras.models import Sequential\n",
    "from keras.layers import Dense, Dropout, Flatten, Conv2D, MaxPool2D\n",
    "from keras.optimizers import RMSprop\n",
    "\n",
    "\n",
    "\n",
    "sns.set_theme(style='white', context='notebook', palette='deep')"
   ]
  },
  {
   "cell_type": "code",
   "execution_count": 3,
   "metadata": {},
   "outputs": [],
   "source": [
    "train_X = pd.read_csv(\"kaggle_datasets/train.csv\")\n",
    "test_data = pd.read_csv(\"kaggle_datasets/test.csv\")\n",
    "train_Y = train_X.pop('label')"
   ]
  },
  {
   "cell_type": "code",
   "execution_count": 4,
   "metadata": {},
   "outputs": [],
   "source": [
    "from keras.utils import to_categorical\n",
    "#train_X.describe()\n",
    "train_X = train_X / 255.0\n",
    "test_data = test_data / 255.0\n",
    "train_X = train_X.values.reshape(-1,28,28,1)\n",
    "test_data = test_data.values.reshape(-1,28,28,1)\n",
    "train_Y = to_categorical(train_Y, num_classes = 10)"
   ]
  },
  {
   "cell_type": "code",
   "execution_count": 5,
   "metadata": {},
   "outputs": [],
   "source": [
    "from sklearn.model_selection import train_test_split\n",
    "#display(train_X.shape, test_data.shape)\n",
    "train_X, val_X, train_Y, val_Y = train_test_split(train_X, train_Y, test_size = 0.1, random_state=2)"
   ]
  },
  {
   "cell_type": "code",
   "execution_count": 33,
   "metadata": {},
   "outputs": [],
   "source": [
    "# g = plt.imshow(train_X[0][:,:,0])\n",
    "# display(train_X[0][:,:,0])"
   ]
  },
  {
   "cell_type": "code",
   "execution_count": 6,
   "metadata": {},
   "outputs": [
    {
     "name": "stdout",
     "output_type": "stream",
     "text": [
      "WARNING:tensorflow:From c:\\Users\\ianmm\\AppData\\Local\\Programs\\Python\\Python311\\Lib\\site-packages\\keras\\src\\backend.py:873: The name tf.get_default_graph is deprecated. Please use tf.compat.v1.get_default_graph instead.\n",
      "\n"
     ]
    },
    {
     "name": "stderr",
     "output_type": "stream",
     "text": [
      "WARNING:tensorflow:From c:\\Users\\ianmm\\AppData\\Local\\Programs\\Python\\Python311\\Lib\\site-packages\\keras\\src\\backend.py:873: The name tf.get_default_graph is deprecated. Please use tf.compat.v1.get_default_graph instead.\n",
      "\n"
     ]
    },
    {
     "name": "stdout",
     "output_type": "stream",
     "text": [
      "WARNING:tensorflow:From c:\\Users\\ianmm\\AppData\\Local\\Programs\\Python\\Python311\\Lib\\site-packages\\keras\\src\\layers\\pooling\\max_pooling2d.py:161: The name tf.nn.max_pool is deprecated. Please use tf.nn.max_pool2d instead.\n",
      "\n"
     ]
    },
    {
     "name": "stderr",
     "output_type": "stream",
     "text": [
      "WARNING:tensorflow:From c:\\Users\\ianmm\\AppData\\Local\\Programs\\Python\\Python311\\Lib\\site-packages\\keras\\src\\layers\\pooling\\max_pooling2d.py:161: The name tf.nn.max_pool is deprecated. Please use tf.nn.max_pool2d instead.\n",
      "\n"
     ]
    }
   ],
   "source": [
    "model = Sequential([\n",
    "    Conv2D(filters = 32, kernel_size = (5,5),padding = 'Same', \n",
    "                 activation ='relu', input_shape = (28,28,1)),\n",
    "    Conv2D(filters = 32, kernel_size = (5,5),padding = 'Same', \n",
    "                 activation ='relu'),\n",
    "    MaxPool2D(pool_size=(2,2)),\n",
    "    Dropout(0.25),\n",
    "    Conv2D(filters = 64, kernel_size = (3,3),padding = 'Same', \n",
    "                 activation ='relu'),\n",
    "    Conv2D(filters = 64, kernel_size = (3,3),padding = 'Same', \n",
    "                 activation ='relu'),\n",
    "    MaxPool2D(pool_size=(2,2), strides=(2,2)),\n",
    "    Dropout(0.25),\n",
    "    Flatten(),\n",
    "    Dense(256, activation = \"relu\"),\n",
    "    Dropout(0.5),\n",
    "    Dense(10, activation = \"softmax\")\n",
    "])\n",
    "# model = Sequential([\n",
    "#     Conv2D(32, kernel_size=(3, 3), activation='relu', input_shape=(28, 28, 1)),\n",
    "#     Conv2D(64, kernel_size=(3, 3), activation='relu'),\n",
    "#     MaxPool2D(pool_size=(2, 2)),\n",
    "#     Dropout(0.25),\n",
    "#     Flatten(),\n",
    "#     Dense(128, activation='relu'),\n",
    "#     Dropout(0.5),\n",
    "#     Dense(10, activation='softmax')\n",
    "# ])"
   ]
  },
  {
   "cell_type": "code",
   "execution_count": 35,
   "metadata": {},
   "outputs": [],
   "source": [
    "optimizer = RMSprop(learning_rate=0.001, rho=0.9, epsilon=1e-08)\n",
    "model.compile(\n",
    "    optimizer=optimizer,\n",
    "    loss='categorical_crossentropy',\n",
    "    metrics=['accuracy'],\n",
    ")"
   ]
  },
  {
   "cell_type": "code",
   "execution_count": 36,
   "metadata": {},
   "outputs": [],
   "source": [
    "from keras.callbacks import EarlyStopping, ReduceLROnPlateau\n",
    "from keras.preprocessing.image import ImageDataGenerator\n",
    "learning_rate_reduction = ReduceLROnPlateau(monitor='val_acc', \n",
    "                                            patience=3, \n",
    "                                            verbose=1, \n",
    "                                            factor=0.5, \n",
    "                                            min_lr=0.00001)\n",
    "\n",
    "datagen = ImageDataGenerator(\n",
    "        featurewise_center=False,  # set input mean to 0 over the dataset\n",
    "        samplewise_center=False,  # set each sample mean to 0\n",
    "        featurewise_std_normalization=False,  # divide inputs by std of the dataset\n",
    "        samplewise_std_normalization=False,  # divide each input by its std\n",
    "        zca_whitening=False,  # apply ZCA whitening\n",
    "        rotation_range=10,  # randomly rotate images in the range (degrees, 0 to 180)\n",
    "        zoom_range = 0.1, # Randomly zoom image \n",
    "        width_shift_range=0.1,  # randomly shift images horizontally (fraction of total width)\n",
    "        height_shift_range=0.1,  # randomly shift images vertically (fraction of total height)\n",
    "        horizontal_flip=False,  # randomly flip images\n",
    "        vertical_flip=False)  # randomly flip images\n",
    "\n",
    "\n",
    "datagen.fit(train_X)\n"
   ]
  },
  {
   "cell_type": "code",
   "execution_count": 37,
   "metadata": {},
   "outputs": [
    {
     "name": "stdout",
     "output_type": "stream",
     "text": [
      "Epoch 1/40\n"
     ]
    },
    {
     "name": "stderr",
     "output_type": "stream",
     "text": [
      "c:\\Users\\ianmm\\AppData\\Local\\Programs\\Python\\Python311\\Lib\\site-packages\\keras\\src\\trainers\\data_adapters\\py_dataset_adapter.py:121: UserWarning: Your `PyDataset` class should call `super().__init__(**kwargs)` in its constructor. `**kwargs` can include `workers`, `use_multiprocessing`, `max_queue_size`. Do not pass these arguments to `fit()`, as they will be ignored.\n",
      "  self._warn_if_super_not_called()\n"
     ]
    },
    {
     "name": "stdout",
     "output_type": "stream",
     "text": [
      "439/439 - 18s - 41ms/step - accuracy: 0.8720 - loss: 0.4054 - val_accuracy: 0.9769 - val_loss: 0.0736 - learning_rate: 0.0010\n",
      "Epoch 2/40\n"
     ]
    },
    {
     "name": "stderr",
     "output_type": "stream",
     "text": [
      "c:\\Users\\ianmm\\AppData\\Local\\Programs\\Python\\Python311\\Lib\\site-packages\\keras\\src\\callbacks\\callback_list.py:96: UserWarning: Learning rate reduction is conditioned on metric `val_acc` which is not available. Available metrics are: accuracy,loss,val_accuracy,val_loss,learning_rate.\n",
      "  callback.on_epoch_end(epoch, logs)\n",
      "c:\\Users\\ianmm\\AppData\\Local\\Programs\\Python\\Python311\\Lib\\contextlib.py:155: UserWarning: Your input ran out of data; interrupting training. Make sure that your dataset or generator can generate at least `steps_per_epoch * epochs` batches. You may need to use the `.repeat()` function when building your dataset.\n",
      "  self.gen.throw(typ, value, traceback)\n"
     ]
    },
    {
     "name": "stdout",
     "output_type": "stream",
     "text": [
      "439/439 - 1s - 2ms/step - accuracy: 0.9884 - loss: 0.0944 - val_accuracy: 0.9802 - val_loss: 0.0697 - learning_rate: 0.0010\n",
      "Epoch 3/40\n",
      "439/439 - 16s - 37ms/step - accuracy: 0.9626 - loss: 0.1217 - val_accuracy: 0.9879 - val_loss: 0.0420 - learning_rate: 0.0010\n",
      "Epoch 4/40\n",
      "439/439 - 1s - 2ms/step - accuracy: 0.9651 - loss: 0.1588 - val_accuracy: 0.9838 - val_loss: 0.0518 - learning_rate: 0.0010\n",
      "Epoch 5/40\n",
      "439/439 - 16s - 37ms/step - accuracy: 0.9734 - loss: 0.0916 - val_accuracy: 0.9907 - val_loss: 0.0297 - learning_rate: 0.0010\n",
      "Epoch 6/40\n",
      "439/439 - 1s - 2ms/step - accuracy: 0.9884 - loss: 0.0340 - val_accuracy: 0.9893 - val_loss: 0.0327 - learning_rate: 0.0010\n",
      "Epoch 7/40\n",
      "439/439 - 16s - 37ms/step - accuracy: 0.9770 - loss: 0.0776 - val_accuracy: 0.9912 - val_loss: 0.0292 - learning_rate: 0.0010\n",
      "Epoch 8/40\n",
      "439/439 - 1s - 2ms/step - accuracy: 0.9767 - loss: 0.1189 - val_accuracy: 0.9898 - val_loss: 0.0303 - learning_rate: 0.0010\n",
      "Epoch 9/40\n",
      "439/439 - 16s - 37ms/step - accuracy: 0.9800 - loss: 0.0687 - val_accuracy: 0.9893 - val_loss: 0.0337 - learning_rate: 0.0010\n",
      "Epoch 10/40\n",
      "439/439 - 1s - 2ms/step - accuracy: 1.0000 - loss: 0.0177 - val_accuracy: 0.9893 - val_loss: 0.0310 - learning_rate: 0.0010\n",
      "Epoch 11/40\n",
      "439/439 - 17s - 38ms/step - accuracy: 0.9822 - loss: 0.0635 - val_accuracy: 0.9936 - val_loss: 0.0232 - learning_rate: 0.0010\n",
      "Epoch 12/40\n",
      "439/439 - 1s - 2ms/step - accuracy: 0.9884 - loss: 0.0355 - val_accuracy: 0.9924 - val_loss: 0.0257 - learning_rate: 0.0010\n",
      "Epoch 13/40\n",
      "439/439 - 17s - 38ms/step - accuracy: 0.9823 - loss: 0.0588 - val_accuracy: 0.9945 - val_loss: 0.0221 - learning_rate: 0.0010\n",
      "Epoch 14/40\n",
      "439/439 - 1s - 2ms/step - accuracy: 0.9884 - loss: 0.0336 - val_accuracy: 0.9936 - val_loss: 0.0220 - learning_rate: 0.0010\n",
      "Epoch 15/40\n",
      "439/439 - 16s - 37ms/step - accuracy: 0.9844 - loss: 0.0552 - val_accuracy: 0.9926 - val_loss: 0.0267 - learning_rate: 0.0010\n",
      "Epoch 16/40\n",
      "439/439 - 1s - 2ms/step - accuracy: 0.9884 - loss: 0.0378 - val_accuracy: 0.9914 - val_loss: 0.0304 - learning_rate: 0.0010\n",
      "Epoch 17/40\n",
      "439/439 - 17s - 38ms/step - accuracy: 0.9841 - loss: 0.0543 - val_accuracy: 0.9936 - val_loss: 0.0251 - learning_rate: 0.0010\n",
      "Epoch 18/40\n",
      "439/439 - 1s - 2ms/step - accuracy: 1.0000 - loss: 0.0010 - val_accuracy: 0.9936 - val_loss: 0.0252 - learning_rate: 0.0010\n",
      "Epoch 19/40\n",
      "439/439 - 17s - 39ms/step - accuracy: 0.9849 - loss: 0.0523 - val_accuracy: 0.9931 - val_loss: 0.0225 - learning_rate: 0.0010\n",
      "Epoch 20/40\n",
      "439/439 - 1s - 2ms/step - accuracy: 0.9767 - loss: 0.0392 - val_accuracy: 0.9926 - val_loss: 0.0243 - learning_rate: 0.0010\n",
      "Epoch 21/40\n",
      "439/439 - 16s - 38ms/step - accuracy: 0.9852 - loss: 0.0511 - val_accuracy: 0.9931 - val_loss: 0.0270 - learning_rate: 0.0010\n",
      "Epoch 22/40\n",
      "439/439 - 1s - 2ms/step - accuracy: 0.9767 - loss: 0.0490 - val_accuracy: 0.9929 - val_loss: 0.0286 - learning_rate: 0.0010\n",
      "Epoch 23/40\n",
      "439/439 - 16s - 37ms/step - accuracy: 0.9845 - loss: 0.0537 - val_accuracy: 0.9929 - val_loss: 0.0252 - learning_rate: 0.0010\n",
      "Epoch 24/40\n",
      "439/439 - 1s - 2ms/step - accuracy: 0.9651 - loss: 0.1037 - val_accuracy: 0.9917 - val_loss: 0.0198 - learning_rate: 0.0010\n",
      "Epoch 25/40\n",
      "439/439 - 16s - 37ms/step - accuracy: 0.9855 - loss: 0.0515 - val_accuracy: 0.9931 - val_loss: 0.0202 - learning_rate: 0.0010\n",
      "Epoch 26/40\n",
      "439/439 - 1s - 2ms/step - accuracy: 1.0000 - loss: 0.0218 - val_accuracy: 0.9931 - val_loss: 0.0262 - learning_rate: 0.0010\n",
      "Epoch 27/40\n",
      "439/439 - 16s - 37ms/step - accuracy: 0.9861 - loss: 0.0511 - val_accuracy: 0.9912 - val_loss: 0.0323 - learning_rate: 0.0010\n",
      "Epoch 28/40\n",
      "439/439 - 1s - 2ms/step - accuracy: 1.0000 - loss: 0.0178 - val_accuracy: 0.9919 - val_loss: 0.0347 - learning_rate: 0.0010\n",
      "Epoch 29/40\n",
      "439/439 - 16s - 37ms/step - accuracy: 0.9857 - loss: 0.0519 - val_accuracy: 0.9931 - val_loss: 0.0273 - learning_rate: 0.0010\n",
      "Epoch 30/40\n",
      "439/439 - 1s - 2ms/step - accuracy: 0.9767 - loss: 0.0516 - val_accuracy: 0.9917 - val_loss: 0.0269 - learning_rate: 0.0010\n",
      "Epoch 31/40\n",
      "439/439 - 16s - 36ms/step - accuracy: 0.9861 - loss: 0.0519 - val_accuracy: 0.9933 - val_loss: 0.0241 - learning_rate: 0.0010\n",
      "Epoch 32/40\n",
      "439/439 - 1s - 2ms/step - accuracy: 1.0000 - loss: 0.0085 - val_accuracy: 0.9938 - val_loss: 0.0262 - learning_rate: 0.0010\n",
      "Epoch 33/40\n",
      "439/439 - 16s - 37ms/step - accuracy: 0.9856 - loss: 0.0537 - val_accuracy: 0.9910 - val_loss: 0.0436 - learning_rate: 0.0010\n",
      "Epoch 34/40\n",
      "439/439 - 1s - 2ms/step - accuracy: 0.9884 - loss: 0.0485 - val_accuracy: 0.9936 - val_loss: 0.0360 - learning_rate: 0.0010\n",
      "Epoch 35/40\n",
      "439/439 - 16s - 36ms/step - accuracy: 0.9850 - loss: 0.0548 - val_accuracy: 0.9924 - val_loss: 0.0306 - learning_rate: 0.0010\n",
      "Epoch 36/40\n",
      "439/439 - 1s - 2ms/step - accuracy: 1.0000 - loss: 0.0028 - val_accuracy: 0.9926 - val_loss: 0.0313 - learning_rate: 0.0010\n",
      "Epoch 37/40\n",
      "439/439 - 16s - 37ms/step - accuracy: 0.9859 - loss: 0.0537 - val_accuracy: 0.9943 - val_loss: 0.0408 - learning_rate: 0.0010\n",
      "Epoch 38/40\n",
      "439/439 - 1s - 2ms/step - accuracy: 0.9767 - loss: 0.1166 - val_accuracy: 0.9933 - val_loss: 0.0316 - learning_rate: 0.0010\n",
      "Epoch 39/40\n",
      "439/439 - 16s - 37ms/step - accuracy: 0.9850 - loss: 0.0574 - val_accuracy: 0.9912 - val_loss: 0.0419 - learning_rate: 0.0010\n",
      "Epoch 40/40\n",
      "439/439 - 1s - 2ms/step - accuracy: 0.9884 - loss: 0.0642 - val_accuracy: 0.9905 - val_loss: 0.0405 - learning_rate: 0.0010\n"
     ]
    }
   ],
   "source": [
    "history = model.fit(datagen.flow(train_X,train_Y, batch_size=86),\n",
    "                              epochs = 40, validation_data = (val_X,val_Y),\n",
    "                              verbose = 2, steps_per_epoch=train_X.shape[0] // 86\n",
    "                              , callbacks=[learning_rate_reduction])"
   ]
  },
  {
   "cell_type": "code",
   "execution_count": 7,
   "metadata": {},
   "outputs": [
    {
     "name": "stderr",
     "output_type": "stream",
     "text": [
      "WARNING:tensorflow:From C:\\Users\\ianmm\\AppData\\Local\\Programs\\Python\\Python311\\Lib\\site-packages\\keras\\src\\losses.py:2976: The name tf.losses.sparse_softmax_cross_entropy is deprecated. Please use tf.compat.v1.losses.sparse_softmax_cross_entropy instead.\n",
      "\n",
      "WARNING:root:TensorFlow Decision Forests 1.8.1 is compatible with the following TensorFlow Versions: ['2.15.0']. However, TensorFlow 2.15.1 was detected. This can cause issues with the TF API and symbols in the custom C++ ops. See the TF and TF-DF compatibility table at https://github.com/tensorflow/decision-forests/blob/main/documentation/known_issues.md#compatibility-table.\n",
      "WARNING:root:Failure to load the inference.so custom c++ tensorflow ops. This error is likely caused the version of TensorFlow and TensorFlow Decision Forests are not compatible. Full error:C:\\Users\\ianmm\\AppData\\Local\\Programs\\Python\\Python311\\Lib\\site-packages\\tensorflow_decision_forests\\tensorflow\\ops\\inference\\inference.so not found\n",
      "Traceback (most recent call last):\n",
      "  File \"<frozen runpy>\", line 198, in _run_module_as_main\n",
      "  File \"<frozen runpy>\", line 88, in _run_code\n",
      "  File \"C:\\Users\\ianmm\\AppData\\Local\\Programs\\Python\\Python311\\Scripts\\tensorflowjs_converter.exe\\__main__.py\", line 4, in <module>\n",
      "  File \"C:\\Users\\ianmm\\AppData\\Local\\Programs\\Python\\Python311\\Lib\\site-packages\\tensorflowjs\\__init__.py\", line 21, in <module>\n",
      "    from tensorflowjs import converters\n",
      "  File \"C:\\Users\\ianmm\\AppData\\Local\\Programs\\Python\\Python311\\Lib\\site-packages\\tensorflowjs\\converters\\__init__.py\", line 21, in <module>\n",
      "    from tensorflowjs.converters.converter import convert\n",
      "  File \"C:\\Users\\ianmm\\AppData\\Local\\Programs\\Python\\Python311\\Lib\\site-packages\\tensorflowjs\\converters\\converter.py\", line 38, in <module>\n",
      "    from tensorflowjs.converters import tf_saved_model_conversion_v2\n",
      "  File \"C:\\Users\\ianmm\\AppData\\Local\\Programs\\Python\\Python311\\Lib\\site-packages\\tensorflowjs\\converters\\tf_saved_model_conversion_v2.py\", line 28, in <module>\n",
      "    import tensorflow_decision_forests\n",
      "  File \"C:\\Users\\ianmm\\AppData\\Local\\Programs\\Python\\Python311\\Lib\\site-packages\\tensorflow_decision_forests\\__init__.py\", line 64, in <module>\n",
      "    from tensorflow_decision_forests import keras\n",
      "  File \"C:\\Users\\ianmm\\AppData\\Local\\Programs\\Python\\Python311\\Lib\\site-packages\\tensorflow_decision_forests\\keras\\__init__.py\", line 53, in <module>\n",
      "    from tensorflow_decision_forests.keras import core\n",
      "  File \"C:\\Users\\ianmm\\AppData\\Local\\Programs\\Python\\Python311\\Lib\\site-packages\\tensorflow_decision_forests\\keras\\core.py\", line 62, in <module>\n",
      "    from tensorflow_decision_forests.keras import core_inference\n",
      "  File \"C:\\Users\\ianmm\\AppData\\Local\\Programs\\Python\\Python311\\Lib\\site-packages\\tensorflow_decision_forests\\keras\\core_inference.py\", line 36, in <module>\n",
      "    from tensorflow_decision_forests.tensorflow.ops.inference import api as tf_op\n",
      "  File \"C:\\Users\\ianmm\\AppData\\Local\\Programs\\Python\\Python311\\Lib\\site-packages\\tensorflow_decision_forests\\tensorflow\\ops\\inference\\api.py\", line 179, in <module>\n",
      "    from tensorflow_decision_forests.tensorflow.ops.inference import op\n",
      "  File \"C:\\Users\\ianmm\\AppData\\Local\\Programs\\Python\\Python311\\Lib\\site-packages\\tensorflow_decision_forests\\tensorflow\\ops\\inference\\op.py\", line 15, in <module>\n",
      "    from tensorflow_decision_forests.tensorflow.ops.inference.op_dynamic import *\n",
      "  File \"C:\\Users\\ianmm\\AppData\\Local\\Programs\\Python\\Python311\\Lib\\site-packages\\tensorflow_decision_forests\\tensorflow\\ops\\inference\\op_dynamic.py\", line 24, in <module>\n",
      "    raise e\n",
      "  File \"C:\\Users\\ianmm\\AppData\\Local\\Programs\\Python\\Python311\\Lib\\site-packages\\tensorflow_decision_forests\\tensorflow\\ops\\inference\\op_dynamic.py\", line 21, in <module>\n",
      "    ops = tf.load_op_library(resource_loader.get_path_to_datafile(\"inference.so\"))\n",
      "          ^^^^^^^^^^^^^^^^^^^^^^^^^^^^^^^^^^^^^^^^^^^^^^^^^^^^^^^^^^^^^^^^^^^^^^^^\n",
      "  File \"C:\\Users\\ianmm\\AppData\\Local\\Programs\\Python\\Python311\\Lib\\site-packages\\tensorflow\\python\\framework\\load_library.py\", line 54, in load_op_library\n",
      "    lib_handle = py_tf.TF_LoadLibrary(library_filename)\n",
      "                 ^^^^^^^^^^^^^^^^^^^^^^^^^^^^^^^^^^^^^^\n",
      "tensorflow.python.framework.errors_impl.NotFoundError: C:\\Users\\ianmm\\AppData\\Local\\Programs\\Python\\Python311\\Lib\\site-packages\\tensorflow_decision_forests\\tensorflow\\ops\\inference\\inference.so not found\n"
     ]
    }
   ],
   "source": [
    "# import tensorflowjs as tfjs\n",
    "# tfjs.converters.save_keras_model(model, 'model.json')\n",
    "\n",
    "# model.save('model.keras')\n",
    "\n",
    "# # Convert the Keras model to TensorFlow.js format\n",
    "!tensorflowjs_converter --input_format keras model.keras model.json"
   ]
  },
  {
   "cell_type": "code",
   "execution_count": 39,
   "metadata": {},
   "outputs": [],
   "source": [
    "# results = model.predict(test_data)\n",
    "\n",
    "# # select the indix with the maximum probability\n",
    "# results = np.argmax(results,axis = 1)\n",
    "\n",
    "# results = pd.Series(results,name=\"Label\")"
   ]
  },
  {
   "cell_type": "code",
   "execution_count": 40,
   "metadata": {},
   "outputs": [],
   "source": [
    "# submission = pd.concat([pd.Series(range(1,28001),name = \"ImageId\"),results],axis = 1)\n",
    "\n",
    "# submission.to_csv(\"submission.csv\",index=False)"
   ]
  },
  {
   "cell_type": "code",
   "execution_count": 41,
   "metadata": {},
   "outputs": [],
   "source": [
    "import pickle\n",
    "\n",
    "# save the iris classification model as a pickle file\n",
    "model_pkl_file = \"digit_classification.pkl\"  \n",
    "\n",
    "with open(model_pkl_file, 'wb') as file:  \n",
    "    pickle.dump(model, file)"
   ]
  }
 ],
 "metadata": {
  "kernelspec": {
   "display_name": "Python 3",
   "language": "python",
   "name": "python3"
  },
  "language_info": {
   "codemirror_mode": {
    "name": "ipython",
    "version": 3
   },
   "file_extension": ".py",
   "mimetype": "text/x-python",
   "name": "python",
   "nbconvert_exporter": "python",
   "pygments_lexer": "ipython3",
   "version": "3.11.5"
  }
 },
 "nbformat": 4,
 "nbformat_minor": 2
}
