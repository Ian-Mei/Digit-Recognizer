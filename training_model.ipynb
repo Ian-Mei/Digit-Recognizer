{
 "cells": [
  {
   "cell_type": "code",
   "execution_count": 2,
   "metadata": {},
   "outputs": [],
   "source": [
    "import pandas as pd\n",
    "import numpy as np\n",
    "import matplotlib.pyplot as plt\n",
    "import matplotlib.image as mpimg\n",
    "import seaborn as sns\n",
    "\n",
    "np.random.seed(2)\n",
    "\n",
    "from sklearn.model_selection import train_test_split\n",
    "from sklearn.metrics import confusion_matrix\n",
    "import itertools\n",
    "\n",
    "from keras.models import Sequential\n",
    "from keras.layers import Dense, Dropout, Flatten, Conv2D, MaxPool2D\n",
    "from keras.optimizers import RMSprop\n",
    "from keras.callbacks import ReduceLROnPlateau\n",
    "\n",
    "\n",
    "sns.set_theme(style='white', context='notebook', palette='deep')"
   ]
  },
  {
   "cell_type": "code",
   "execution_count": 15,
   "metadata": {},
   "outputs": [],
   "source": [
    "train_X = pd.read_csv(\"kaggle_datasets/train.csv\")\n",
    "test_data = pd.read_csv(\"kaggle_datasets/test.csv\")\n",
    "train_Y = train_X.pop('label')"
   ]
  },
  {
   "cell_type": "code",
   "execution_count": 16,
   "metadata": {},
   "outputs": [],
   "source": [
    "from keras.utils import to_categorical\n",
    "#train_X.describe()\n",
    "train_X = train_X / 255.0\n",
    "test_data = test_data / 255.0\n",
    "train_X = train_X.values.reshape(-1,28,28,1)\n",
    "test_data = test_data.values.reshape(-1,28,28,1)\n",
    "train_Y = to_categorical(train_Y, num_classes = 10)"
   ]
  },
  {
   "cell_type": "code",
   "execution_count": 18,
   "metadata": {},
   "outputs": [],
   "source": [
    "#display(train_X.shape, test_data.shape)\n",
    "train_X, val_X, train_Y, val_Y = train_test_split(train_X, train_Y, test_size = 0.1, random_state=2)"
   ]
  },
  {
   "cell_type": "code",
   "execution_count": 22,
   "metadata": {},
   "outputs": [
    {
     "data": {
      "image/png": "[encoded data removed]",
      "text/plain": [
       "<Figure size 640x480 with 1 Axes>"
      ]
     },
     "metadata": {},
     "output_type": "display_data"
    }
   ],
   "source": [
    "g = plt.imshow(train_X[0][:,:,0])"
   ]
  },
  {
   "cell_type": "code",
   "execution_count": 23,
   "metadata": {},
   "outputs": [],
   "source": [
    "# model = Sequential([\n",
    "#     Conv2D(filters = 32, kernel_size = (5,5),padding = 'Same', \n",
    "#                  activation ='relu', input_shape = (28,28,1)),\n",
    "#     Conv2D(filters = 32, kernel_size = (5,5),padding = 'Same', \n",
    "#                  activation ='relu'),\n",
    "#     MaxPool2D(pool_size=(2,2)),\n",
    "#     Dropout(0.25),\n",
    "#     Conv2D(filters = 64, kernel_size = (3,3),padding = 'Same', \n",
    "#                  activation ='relu'),\n",
    "#     Conv2D(filters = 64, kernel_size = (3,3),padding = 'Same', \n",
    "#                  activation ='relu'),\n",
    "#     MaxPool2D(pool_size=(2,2), strides=(2,2)),\n",
    "#     Dropout(0.25),\n",
    "#     Flatten(),\n",
    "#     Dense(256, activation = \"relu\"),\n",
    "#     Dropout(0.5),\n",
    "#     Dense(10, activation = \"softmax\")\n",
    "# ])\n",
    "model = Sequential([\n",
    "    Conv2D(32, kernel_size=(3, 3), activation='relu', input_shape=(28, 28, 1)),\n",
    "    Conv2D(64, kernel_size=(3, 3), activation='relu'),\n",
    "    MaxPool2D(pool_size=(2, 2)),\n",
    "    Dropout(0.25),\n",
    "    Flatten(),\n",
    "    Dense(128, activation='relu'),\n",
    "    Dropout(0.5),\n",
    "    Dense(10, activation='softmax')\n",
    "])"
   ]
  },
  {
   "cell_type": "code",
   "execution_count": 28,
   "metadata": {},
   "outputs": [],
   "source": [
    "optimizer = RMSprop(learning_rate=0.001, rho=0.9, epsilon=1e-08)\n",
    "model.compile(\n",
    "    optimizer=optimizer,\n",
    "    loss='categorical_crossentropy',\n",
    "    metrics=['accuracy'],\n",
    ")"
   ]
  },
  {
   "cell_type": "code",
   "execution_count": 29,
   "metadata": {},
   "outputs": [
    {
     "name": "stdout",
     "output_type": "stream",
     "text": [
      "Epoch 1/200\n",
      "74/74 [==============================] - 16s 205ms/step - loss: 0.0942 - accuracy: 0.9721 - val_loss: 0.0575 - val_accuracy: 0.9817\n",
      "Epoch 2/200\n",
      "74/74 [==============================] - 16s 219ms/step - loss: 0.0767 - accuracy: 0.9778 - val_loss: 0.0478 - val_accuracy: 0.9862\n",
      "Epoch 3/200\n",
      "74/74 [==============================] - 18s 243ms/step - loss: 0.0690 - accuracy: 0.9789 - val_loss: 0.0470 - val_accuracy: 0.9857\n",
      "Epoch 4/200\n",
      "74/74 [==============================] - 31s 426ms/step - loss: 0.0630 - accuracy: 0.9805 - val_loss: 0.0506 - val_accuracy: 0.9864\n",
      "Epoch 5/200\n",
      "74/74 [==============================] - 46s 615ms/step - loss: 0.0580 - accuracy: 0.9829 - val_loss: 0.0438 - val_accuracy: 0.9876\n",
      "Epoch 6/200\n",
      "74/74 [==============================] - 18s 246ms/step - loss: 0.0520 - accuracy: 0.9843 - val_loss: 0.0419 - val_accuracy: 0.9879\n",
      "Epoch 7/200\n",
      "74/74 [==============================] - 19s 255ms/step - loss: 0.0471 - accuracy: 0.9855 - val_loss: 0.0422 - val_accuracy: 0.9881\n",
      "Epoch 8/200\n",
      "74/74 [==============================] - 21s 281ms/step - loss: 0.0433 - accuracy: 0.9869 - val_loss: 0.0501 - val_accuracy: 0.9871\n",
      "Epoch 9/200\n",
      "74/74 [==============================] - 21s 283ms/step - loss: 0.0415 - accuracy: 0.9867 - val_loss: 0.0408 - val_accuracy: 0.9883\n",
      "Epoch 10/200\n",
      "74/74 [==============================] - 21s 284ms/step - loss: 0.0385 - accuracy: 0.9879 - val_loss: 0.0438 - val_accuracy: 0.9893\n",
      "Epoch 11/200\n",
      "74/74 [==============================] - 21s 288ms/step - loss: 0.0350 - accuracy: 0.9887 - val_loss: 0.0381 - val_accuracy: 0.9893\n",
      "Epoch 12/200\n",
      "74/74 [==============================] - 21s 278ms/step - loss: 0.0336 - accuracy: 0.9897 - val_loss: 0.0489 - val_accuracy: 0.9881\n",
      "Epoch 13/200\n",
      "74/74 [==============================] - 21s 278ms/step - loss: 0.0315 - accuracy: 0.9901 - val_loss: 0.0417 - val_accuracy: 0.9898\n",
      "Epoch 14/200\n",
      "74/74 [==============================] - 21s 285ms/step - loss: 0.0305 - accuracy: 0.9901 - val_loss: 0.0445 - val_accuracy: 0.9886\n",
      "Epoch 15/200\n",
      "74/74 [==============================] - 21s 281ms/step - loss: 0.0281 - accuracy: 0.9909 - val_loss: 0.0481 - val_accuracy: 0.9879\n",
      "Epoch 16/200\n",
      "74/74 [==============================] - 21s 278ms/step - loss: 0.0285 - accuracy: 0.9911 - val_loss: 0.0464 - val_accuracy: 0.9895\n"
     ]
    }
   ],
   "source": [
    "from keras.callbacks import EarlyStopping\n",
    "early_stopping = EarlyStopping(\n",
    "    patience=5,\n",
    "    min_delta=0.001,\n",
    "    restore_best_weights=True,\n",
    ")\n",
    "history = model.fit(\n",
    "    train_X, train_Y,\n",
    "    validation_data=(val_X, val_Y),\n",
    "    batch_size=512,\n",
    "    epochs=200,\n",
    "    callbacks=[early_stopping],\n",
    ")"
   ]
  },
  {
   "cell_type": "code",
   "execution_count": 30,
   "metadata": {},
   "outputs": [
    {
     "name": "stdout",
     "output_type": "stream",
     "text": [
      "875/875 [==============================] - 6s 7ms/step\n"
     ]
    }
   ],
   "source": [
    "results = model.predict(test_data)\n",
    "\n",
    "# select the indix with the maximum probability\n",
    "results = np.argmax(results,axis = 1)\n",
    "\n",
    "results = pd.Series(results,name=\"Label\")"
   ]
  },
  {
   "cell_type": "code",
   "execution_count": 31,
   "metadata": {},
   "outputs": [],
   "source": [
    "submission = pd.concat([pd.Series(range(1,28001),name = \"ImageId\"),results],axis = 1)\n",
    "\n",
    "submission.to_csv(\"submission.csv\",index=False)"
   ]
  },
  {
   "cell_type": "code",
   "execution_count": 32,
   "metadata": {},
   "outputs": [],
   "source": [
    "import pickle\n",
    "\n",
    "# save the iris classification model as a pickle file\n",
    "model_pkl_file = \"digit_classification.pkl\"  \n",
    "\n",
    "with open(model_pkl_file, 'wb') as file:  \n",
    "    pickle.dump(model, file)"
   ]
  },
  {
   "cell_type": "code",
   "execution_count": 25,
   "metadata": {},
   "outputs": [
    {
     "name": "stdout",
     "output_type": "stream",
     "text": [
      "1/1 [==============================] - 0s 42ms/step\n"
     ]
    },
    {
     "data": {
      "text/plain": [
       "array([[0.01857644, 0.16586967, 0.2705715 , 0.01057088, 0.14498566,\n",
       "        0.01397792, 0.0066797 , 0.2626841 , 0.09879902, 0.00728517]],\n",
       "      dtype=float32)"
      ]
     },
     "execution_count": 25,
     "metadata": {},
     "output_type": "execute_result"
    }
   ],
   "source": [
    "import matplotlib.pyplot as plt\n",
    "import pandas as pd\n",
    "import numpy as np\n",
    "import pickle\n",
    "with open('digit_classification.pkl', 'rb') as file:\n",
    "    model = pickle.load(file)\n",
    "data = pd.read_csv(\"data.csv\")\n",
    "data = data.drop('Unnamed: 0', axis=1)\n",
    "np_data = data.values\n",
    "reshaped_data = np_data.reshape(-1,28, 28,1)\n",
    "model.predict(reshaped_data)\n"
   ]
  },
  {
   "cell_type": "code",
   "execution_count": 26,
   "metadata": {},
   "outputs": [
    {
     "data": {
      "image/png": "[encoded data removed]",
      "text/plain": [
       "<Figure size 640x480 with 1 Axes>"
      ]
     },
     "metadata": {},
     "output_type": "display_data"
    }
   ],
   "source": [
    "import matplotlib.pyplot as plt\n",
    "\n",
    "# Assuming reshaped_data is correctly reshaped to (-1, 28, 28, 1)\n",
    "# Visualize the first image\n",
    "plt.imshow(reshaped_data[0, :, :, 0], cmap='gray')\n",
    "plt.show()"
   ]
  },
  {
   "cell_type": "code",
   "execution_count": 30,
   "metadata": {},
   "outputs": [
    {
     "data": {
      "text/plain": [
       "1.0"
      ]
     },
     "metadata": {},
     "output_type": "display_data"
    },
    {
     "data": {
      "text/plain": [
       "0.0"
      ]
     },
     "metadata": {},
     "output_type": "display_data"
    }
   ],
   "source": [
    "display(reshaped_data.max(), reshaped_data.min())"
   ]
  }
 ],
 "metadata": {
  "kernelspec": {
   "display_name": "Python 3",
   "language": "python",
   "name": "python3"
  },
  "language_info": {
   "codemirror_mode": {
    "name": "ipython",
    "version": 3
   },
   "file_extension": ".py",
   "mimetype": "text/x-python",
   "name": "python",
   "nbconvert_exporter": "python",
   "pygments_lexer": "ipython3",
   "version": "3.11.5"
  }
 },
 "nbformat": 4,
 "nbformat_minor": 2
}
